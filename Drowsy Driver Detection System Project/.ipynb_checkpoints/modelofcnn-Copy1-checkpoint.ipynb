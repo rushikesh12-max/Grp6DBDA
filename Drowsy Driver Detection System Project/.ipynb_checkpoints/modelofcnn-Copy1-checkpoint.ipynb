{
 "cells": [
  {
   "cell_type": "code",
   "execution_count": 3,
   "id": "ae17d0d1",
   "metadata": {},
   "outputs": [],
   "source": [
    "import os\n",
    "from keras.preprocessing import image\n",
    "import matplotlib.pyplot as plt \n",
    "import numpy as np\n",
    "from tensorflow.keras.utils import to_categorical\n",
    "import random,shutil\n",
    "from keras.models import Sequential\n",
    "from keras.layers import Dropout,Conv2D,Flatten,Dense, MaxPooling2D, BatchNormalization\n",
    "from keras.models import load_model"
   ]
  },
  {
   "cell_type": "code",
   "execution_count": null,
   "id": "40d02ac1",
   "metadata": {},
   "outputs": [],
   "source": []
  },
  {
   "cell_type": "code",
   "execution_count": 4,
   "id": "6aa525da",
   "metadata": {},
   "outputs": [],
   "source": [
    "def generator(dir, gen=image.ImageDataGenerator(rescale=1./255), shuffle=True,batch_size=1,target_size=(24,24),class_mode='categorical' ):\n",
    "\n",
    "    return gen.flow_from_directory(dir,batch_size=batch_size,shuffle=shuffle,color_mode='grayscale',class_mode=class_mode,target_size=target_size)\n"
   ]
  },
  {
   "cell_type": "code",
   "execution_count": 17,
   "id": "5bb90491",
   "metadata": {},
   "outputs": [],
   "source": [
    "img_dir = 'E:\\archive (13)\\dataset_new'"
   ]
  },
  {
   "cell_type": "code",
   "execution_count": 9,
   "id": "d55cc3a0",
   "metadata": {},
   "outputs": [
    {
     "name": "stdout",
     "output_type": "stream",
     "text": [
      "Found 1234 images belonging to 2 classes.\n",
      "Found 218 images belonging to 2 classes.\n",
      "38 6\n"
     ]
    }
   ],
   "source": [
    "BS= 32\n",
    "TS=(24,24)\n",
    "train_batch= generator('E:/archive (13)/dataset_new/train',shuffle=True, batch_size=BS,target_size=TS)\n",
    "valid_batch= generator('E:/archive (13)/dataset_new/test',shuffle=True, batch_size=BS,target_size=TS)\n",
    "SPE= len(train_batch.classes)//BS\n",
    "VS = len(valid_batch.classes)//BS\n",
    "print(SPE,VS)"
   ]
  },
  {
   "cell_type": "code",
   "execution_count": 10,
   "id": "0e339105",
   "metadata": {},
   "outputs": [
    {
     "name": "stdout",
     "output_type": "stream",
     "text": [
      "WARNING:tensorflow:From C:\\Users\\rushikesh pote\\anaconda3\\Lib\\site-packages\\keras\\src\\backend.py:873: The name tf.get_default_graph is deprecated. Please use tf.compat.v1.get_default_graph instead.\n",
      "\n",
      "WARNING:tensorflow:From C:\\Users\\rushikesh pote\\anaconda3\\Lib\\site-packages\\keras\\src\\layers\\pooling\\max_pooling2d.py:161: The name tf.nn.max_pool is deprecated. Please use tf.nn.max_pool2d instead.\n",
      "\n"
     ]
    }
   ],
   "source": [
    " model = Sequential([\n",
    "    Conv2D(32, kernel_size=(3, 3), activation='relu', input_shape=(24,24,1)),\n",
    "    MaxPooling2D(pool_size=(1,1)),\n",
    "    Conv2D(32,(3,3),activation='relu'),\n",
    "    MaxPooling2D(pool_size=(1,1)),\n",
    "#32 convolution filters used each of size 3x3\n",
    "#again\n",
    "    Conv2D(64, (3, 3), activation='relu'),\n",
    "    MaxPooling2D(pool_size=(1,1)),\n",
    "\n",
    "#64 convolution filters used each of size 3x3\n",
    "#choose the best features via pooling\n",
    "    \n",
    "#randomly turn neurons on and off to improve convergence\n",
    "    Dropout(0.25),\n",
    "#flatten since too many dimensions, we only want a classification output\n",
    "    Flatten(),\n",
    "#fully connected to get all relevant data\n",
    "    Dense(128, activation='relu'),\n",
    "#one more dropout for convergence' sake :) \n",
    "    Dropout(0.5),\n",
    "#output a softmax to squash the matrix into output probabilities\n",
    "    Dense(2, activation='softmax')\n",
    "])"
   ]
  },
  {
   "cell_type": "code",
   "execution_count": 11,
   "id": "fe32ee10",
   "metadata": {},
   "outputs": [
    {
     "name": "stdout",
     "output_type": "stream",
     "text": [
      "WARNING:tensorflow:From C:\\Users\\rushikesh pote\\anaconda3\\Lib\\site-packages\\keras\\src\\optimizers\\__init__.py:309: The name tf.train.Optimizer is deprecated. Please use tf.compat.v1.train.Optimizer instead.\n",
      "\n"
     ]
    }
   ],
   "source": [
    "model.compile(optimizer='adam',loss='categorical_crossentropy',metrics=['accuracy'])"
   ]
  },
  {
   "cell_type": "code",
   "execution_count": 12,
   "id": "50bde782",
   "metadata": {},
   "outputs": [
    {
     "name": "stderr",
     "output_type": "stream",
     "text": [
      "C:\\Users\\rushikesh pote\\AppData\\Local\\Temp\\ipykernel_19692\\3808488693.py:1: UserWarning: `Model.fit_generator` is deprecated and will be removed in a future version. Please use `Model.fit`, which supports generators.\n",
      "  model.fit_generator(train_batch, validation_data=valid_batch,epochs=15,steps_per_epoch=SPE ,validation_steps=VS)\n"
     ]
    },
    {
     "name": "stdout",
     "output_type": "stream",
     "text": [
      "Epoch 1/15\n",
      "WARNING:tensorflow:From C:\\Users\\rushikesh pote\\anaconda3\\Lib\\site-packages\\keras\\src\\utils\\tf_utils.py:492: The name tf.ragged.RaggedTensorValue is deprecated. Please use tf.compat.v1.ragged.RaggedTensorValue instead.\n",
      "\n",
      "WARNING:tensorflow:From C:\\Users\\rushikesh pote\\anaconda3\\Lib\\site-packages\\keras\\src\\engine\\base_layer_utils.py:384: The name tf.executing_eagerly_outside_functions is deprecated. Please use tf.compat.v1.executing_eagerly_outside_functions instead.\n",
      "\n",
      "38/38 [==============================] - 8s 178ms/step - loss: 0.4330 - accuracy: 0.8120 - val_loss: 0.1840 - val_accuracy: 0.9479\n",
      "Epoch 2/15\n",
      "38/38 [==============================] - 6s 166ms/step - loss: 0.2070 - accuracy: 0.9243 - val_loss: 0.1612 - val_accuracy: 0.9427\n",
      "Epoch 3/15\n",
      "38/38 [==============================] - 6s 165ms/step - loss: 0.1525 - accuracy: 0.9434 - val_loss: 0.1609 - val_accuracy: 0.9375\n",
      "Epoch 4/15\n",
      "38/38 [==============================] - 6s 170ms/step - loss: 0.1309 - accuracy: 0.9443 - val_loss: 0.1396 - val_accuracy: 0.9375\n",
      "Epoch 5/15\n",
      "38/38 [==============================] - 6s 165ms/step - loss: 0.0820 - accuracy: 0.9700 - val_loss: 0.1005 - val_accuracy: 0.9479\n",
      "Epoch 6/15\n",
      "38/38 [==============================] - 6s 164ms/step - loss: 0.0631 - accuracy: 0.9767 - val_loss: 0.0825 - val_accuracy: 0.9635\n",
      "Epoch 7/15\n",
      "38/38 [==============================] - 6s 168ms/step - loss: 0.0555 - accuracy: 0.9825 - val_loss: 0.1294 - val_accuracy: 0.9427\n",
      "Epoch 8/15\n",
      "38/38 [==============================] - 6s 166ms/step - loss: 0.0500 - accuracy: 0.9850 - val_loss: 0.0836 - val_accuracy: 0.9688\n",
      "Epoch 9/15\n",
      "38/38 [==============================] - 6s 169ms/step - loss: 0.0269 - accuracy: 0.9917 - val_loss: 0.0971 - val_accuracy: 0.9427\n",
      "Epoch 10/15\n",
      "38/38 [==============================] - 6s 164ms/step - loss: 0.0296 - accuracy: 0.9892 - val_loss: 0.0878 - val_accuracy: 0.9635\n",
      "Epoch 11/15\n",
      "38/38 [==============================] - 6s 166ms/step - loss: 0.0250 - accuracy: 0.9917 - val_loss: 0.0902 - val_accuracy: 0.9531\n",
      "Epoch 12/15\n",
      "38/38 [==============================] - 6s 170ms/step - loss: 0.0177 - accuracy: 0.9925 - val_loss: 0.0850 - val_accuracy: 0.9635\n",
      "Epoch 13/15\n",
      "38/38 [==============================] - 6s 165ms/step - loss: 0.0246 - accuracy: 0.9908 - val_loss: 0.1411 - val_accuracy: 0.9479\n",
      "Epoch 14/15\n",
      "38/38 [==============================] - 6s 169ms/step - loss: 0.0269 - accuracy: 0.9908 - val_loss: 0.0664 - val_accuracy: 0.9740\n",
      "Epoch 15/15\n",
      "38/38 [==============================] - 6s 167ms/step - loss: 0.0195 - accuracy: 0.9933 - val_loss: 0.0752 - val_accuracy: 0.9740\n"
     ]
    },
    {
     "data": {
      "text/plain": [
       "<keras.src.callbacks.History at 0x1f07a61afd0>"
      ]
     },
     "execution_count": 12,
     "metadata": {},
     "output_type": "execute_result"
    }
   ],
   "source": [
    "model.fit_generator(train_batch, validation_data=valid_batch,epochs=15,steps_per_epoch=SPE ,validation_steps=VS)"
   ]
  },
  {
   "cell_type": "code",
   "execution_count": 14,
   "id": "40cc3739",
   "metadata": {},
   "outputs": [],
   "source": [
    "def TestInput(CNNModelSaved , imgMatrix):\n",
    "    labels=[\"Closed\" , \"Open\"]\n",
    "    imgMatrix = cv2.resize(imgMatrix , (227,227))\n",
    "    imgMatrix = imgMatrix.astype('float32')\n",
    "    imgMatrix /= 255.0\n",
    "    imgMatrix = cv2.cvtColor(imgMatrix, cv2.COLOR_BGR2RGB)\n",
    "    imgMatrix = imgMatrix.reshape((1, 227, 227, 3))\n",
    "    c = CNNModelSaved.predict(imgMatrix)\n",
    "    p = np.argmax(c)\n",
    "    print(c)\n",
    "    return labels[p]"
   ]
  },
  {
   "cell_type": "code",
   "execution_count": 18,
   "id": "d615be97",
   "metadata": {},
   "outputs": [
    {
     "ename": "AttributeError",
     "evalue": "'str' object has no attribute 'glob'",
     "output_type": "error",
     "traceback": [
      "\u001b[1;31m---------------------------------------------------------------------------\u001b[0m",
      "\u001b[1;31mAttributeError\u001b[0m                            Traceback (most recent call last)",
      "Cell \u001b[1;32mIn[18], line 2\u001b[0m\n\u001b[0;32m      1\u001b[0m \u001b[38;5;66;03m# get filePaths and labels\u001b[39;00m\n\u001b[1;32m----> 2\u001b[0m filepaths \u001b[38;5;241m=\u001b[39m \u001b[38;5;28mlist\u001b[39m(img_dir\u001b[38;5;241m.\u001b[39mglob(\u001b[38;5;124mr\u001b[39m\u001b[38;5;124m'\u001b[39m\u001b[38;5;124m**/*.PNG\u001b[39m\u001b[38;5;124m'\u001b[39m)) \u001b[38;5;241m+\u001b[39m \u001b[38;5;28mlist\u001b[39m(img_dir\u001b[38;5;241m.\u001b[39mglob(\u001b[38;5;124mr\u001b[39m\u001b[38;5;124m'\u001b[39m\u001b[38;5;124m**/*.png\u001b[39m\u001b[38;5;124m'\u001b[39m)) \n\u001b[0;32m      3\u001b[0m labels \u001b[38;5;241m=\u001b[39m \u001b[38;5;28mlist\u001b[39m(\u001b[38;5;28mmap\u001b[39m( \u001b[38;5;28;01mlambda\u001b[39;00m x:os\u001b[38;5;241m.\u001b[39mpath\u001b[38;5;241m.\u001b[39msplit(os\u001b[38;5;241m.\u001b[39mpath\u001b[38;5;241m.\u001b[39msplit(x)[\u001b[38;5;241m0\u001b[39m])[\u001b[38;5;241m1\u001b[39m] , filepaths))\n\u001b[0;32m      5\u001b[0m \u001b[38;5;66;03m# Convert type to Series\u001b[39;00m\n",
      "\u001b[1;31mAttributeError\u001b[0m: 'str' object has no attribute 'glob'"
     ]
    }
   ],
   "source": [
    "# get filePaths and labels\n",
    "filepaths = list(img_dir.glob(r'**/*.PNG')) + list(img_dir.glob(r'**/*.png')) \n",
    "labels = list(map( lambda x:os.path.split(os.path.split(x)[0])[1] , filepaths))\n",
    "\n",
    "# Convert type to Series\n",
    "filepaths = pd.Series(filepaths, name='Filepath').astype(str)\n",
    "labels = pd.Series(labels, name='Label')"
   ]
  },
  {
   "cell_type": "code",
   "execution_count": null,
   "id": "318f5831",
   "metadata": {},
   "outputs": [],
   "source": [
    "y_act_data = plt.imread(valid_batch.Filepath.iloc[1])\n",
    "y_act_label = valid_batch.Label.iloc[1]\n",
    "y_pred = TestInput(CNNModel1 , y_act_data)\n",
    "print(y_pred)\n",
    "print(y_act_label)\n",
    "plt.imshow(y_act_data)"
   ]
  },
  {
   "cell_type": "code",
   "execution_count": 13,
   "id": "b2657251",
   "metadata": {},
   "outputs": [
    {
     "name": "stderr",
     "output_type": "stream",
     "text": [
      "C:\\Users\\rushikesh pote\\anaconda3\\Lib\\site-packages\\keras\\src\\engine\\training.py:3103: UserWarning: You are saving your model as an HDF5 file via `model.save()`. This file format is considered legacy. We recommend using instead the native Keras format, e.g. `model.save('my_model.keras')`.\n",
      "  saving_api.save_model(\n"
     ]
    }
   ],
   "source": [
    "model.save('models/cnnCat2.h5', overwrite=True)"
   ]
  },
  {
   "cell_type": "code",
   "execution_count": null,
   "id": "a0442ac2",
   "metadata": {},
   "outputs": [],
   "source": []
  }
 ],
 "metadata": {
  "kernelspec": {
   "display_name": "Python 3 (ipykernel)",
   "language": "python",
   "name": "python3"
  },
  "language_info": {
   "codemirror_mode": {
    "name": "ipython",
    "version": 3
   },
   "file_extension": ".py",
   "mimetype": "text/x-python",
   "name": "python",
   "nbconvert_exporter": "python",
   "pygments_lexer": "ipython3",
   "version": "3.11.5"
  }
 },
 "nbformat": 4,
 "nbformat_minor": 5
}
